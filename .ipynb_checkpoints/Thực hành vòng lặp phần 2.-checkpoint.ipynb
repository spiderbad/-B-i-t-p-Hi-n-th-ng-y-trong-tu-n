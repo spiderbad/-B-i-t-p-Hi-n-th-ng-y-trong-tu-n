{
 "cells": [
  {
   "cell_type": "code",
   "execution_count": null,
   "id": "7c279d99",
   "metadata": {},
   "outputs": [],
   "source": [
    "'''\n",
    "Warm-up: In ra 10 số tự nhiên đầu tiên từ 1 đến 10\n",
    "'''\n"
   ]
  },
  {
   "cell_type": "code",
   "execution_count": null,
   "id": "66918d7e",
   "metadata": {},
   "outputs": [],
   "source": [
    "'''\n",
    "Bài 1: Nhập vào số nguyên dương n. Tính tổng các số tự nhiên từ 1 đến n.\n",
    "'''"
   ]
  },
  {
   "cell_type": "code",
   "execution_count": null,
   "id": "be255bdc",
   "metadata": {},
   "outputs": [],
   "source": [
    "'''\n",
    "Bài 2: Nhập vào số nguyên dương n. In ra bảng cửu chương từ 1 đến 10 của n.\n",
    "'''"
   ]
  },
  {
   "cell_type": "code",
   "execution_count": null,
   "id": "681c029c",
   "metadata": {},
   "outputs": [],
   "source": [
    "'''\n",
    "Bài 3: Nhập vào số nguyên dương n. Đếm xem n có bao nhiêu chữ số.\n",
    "'''"
   ]
  },
  {
   "cell_type": "code",
   "execution_count": null,
   "id": "7eb58122",
   "metadata": {},
   "outputs": [],
   "source": [
    "'''\n",
    "Bài 4: Nhập vào số nguyên dương n. Tính tổng các chữ số của n.\n",
    "'''"
   ]
  },
  {
   "cell_type": "code",
   "execution_count": null,
   "id": "cf0da697",
   "metadata": {},
   "outputs": [],
   "source": [
    "'''\n",
    "Bài 5: Nhập vào số nguyên dương n. Sử dụng cấu trúc vòng lặp lồng nhau(nested for loop) để in ra tam giác có dạng như sau:\n",
    "1\n",
    "1 2\n",
    "1 2 3\n",
    "1 2 3 4\n",
    "1 2 3 4 5\n",
    "'''"
   ]
  },
  {
   "cell_type": "code",
   "execution_count": null,
   "id": "1ac5d880",
   "metadata": {},
   "outputs": [],
   "source": [
    "'''\n",
    "Bài 6: Nhập vào số nguyên dương n. Sử dụng cấu trúc vòng lặp lồng nhau(nested for loop) để in ra tam giác có dạng như sau:\n",
    "5 4 3 2 1\n",
    "4 3 2 1\n",
    "3 2 1\n",
    "2 1\n",
    "1\n",
    "'''"
   ]
  },
  {
   "cell_type": "code",
   "execution_count": null,
   "id": "5a16aa66",
   "metadata": {},
   "outputs": [],
   "source": [
    "'''\n",
    "Bài 7: Nhập vào một số nguyên dương n. Tính giai thừa của n.\n",
    "Note: Giai thừa của n được tính bằng công thức: n! = n*(n - 1)*(n - 2)*...*1\n",
    "Ví dụ: 5! = 5 × 4 × 3 × 2 × 1 = 120\n",
    "'''"
   ]
  },
  {
   "cell_type": "code",
   "execution_count": null,
   "id": "8dfa4890",
   "metadata": {},
   "outputs": [],
   "source": [
    "'''\n",
    "Bài 8: Viết chương trình nhập vào một số nguyên dương n và in ra số đảo ngược của n.\n",
    "Ví dụ:\n",
    "Input: 76542\n",
    "Output: 24567\n",
    "'''"
   ]
  },
  {
   "cell_type": "code",
   "execution_count": null,
   "id": "326700db",
   "metadata": {},
   "outputs": [],
   "source": [
    "'''\n",
    "Bài 9: Viết phần mềm nhập vào số n (từ 1 đến 9) và in ra tam giác có dạng như sau:\n",
    "1\n",
    "22\n",
    "333\n",
    "4444\n",
    "55555\n",
    "666666\n",
    "7777777\n",
    "88888888\n",
    "999999999\n",
    "'''"
   ]
  },
  {
   "cell_type": "code",
   "execution_count": null,
   "id": "bfe2e17f",
   "metadata": {},
   "outputs": [],
   "source": [
    "'''\n",
    "Bonus: Vẽ xe lửa\n",
    "What is the size of your train? 1\n",
    " ______________________>__\n",
    "|]||[]_[]_[]|||[]_[]_[]||[|\n",
    "\\==o-o======o-o======o-o==/\n",
    "\n",
    "What is the size of your train? 2\n",
    " _________________________   ______________________>__\n",
    "|]||[]_[]_[]|||[]_[]_[]||[| |]||[]_[]_[]|||[]_[]_[]||[|\n",
    "\\==o-o======o-o======o-o==/_\\==o-o======o-o======o-o==/\n",
    "'''"
   ]
  }
 ],
 "metadata": {
  "kernelspec": {
   "display_name": "Python 3 (ipykernel)",
   "language": "python",
   "name": "python3"
  },
  "language_info": {
   "codemirror_mode": {
    "name": "ipython",
    "version": 3
   },
   "file_extension": ".py",
   "mimetype": "text/x-python",
   "name": "python",
   "nbconvert_exporter": "python",
   "pygments_lexer": "ipython3",
   "version": "3.10.2"
  }
 },
 "nbformat": 4,
 "nbformat_minor": 5
}
